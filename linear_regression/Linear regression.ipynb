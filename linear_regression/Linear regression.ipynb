{
 "cells": [
  {
   "cell_type": "code",
   "execution_count": 1,
   "id": "66353ca2",
   "metadata": {},
   "outputs": [],
   "source": [
    "import numpy as np\n",
    "import pandas as pd\n",
    "import matplotlib.pyplot as plt"
   ]
  },
  {
   "cell_type": "code",
   "execution_count": 2,
   "id": "909fcb2e",
   "metadata": {},
   "outputs": [],
   "source": [
    "train=pd.read_csv(\"train_linear_regression_dataset.csv\")\n",
    "train.RACE=train.RACE.fillna(1)\n",
    "test=pd.read_csv(\"test_linear_regression_dataset.csv\")\n",
    "test.RACE=test.RACE.fillna(1)"
   ]
  },
  {
   "cell_type": "code",
   "execution_count": 3,
   "id": "11be3521",
   "metadata": {},
   "outputs": [],
   "source": [
    "train_data=train.values\n",
    "Y=train_data[:,-1].reshape(train_data.shape[0],1)\n",
    "X=train_data[:,:-1]\n",
    "test_data = test.values\n",
    "Y_test = test_data[:,-1].reshape(test_data.shape[0],1)\n",
    "X_test = test_data[:,:-1] "
   ]
  },
  {
   "cell_type": "code",
   "execution_count": 4,
   "id": "5e1caf0f",
   "metadata": {},
   "outputs": [],
   "source": [
    "X = np.vstack((np.ones((X.shape[0],)),X.T)).T\n",
    "X_test = np.vstack((np.ones((X_test.shape[0],)),X_test.T)).T"
   ]
  },
  {
   "cell_type": "code",
   "execution_count": 70,
   "id": "7d18ef49",
   "metadata": {},
   "outputs": [],
   "source": [
    "def model(X,Y,learning_rate,iteration):\n",
    "    m=Y.size\n",
    "    theta = np.zeros((X.shape[1],1))\n",
    "    cost_list = []\n",
    "    for i in range (iteration):\n",
    "        y_pred=np.dot(X,theta)\n",
    "        cost = (1/(2*m))*np.sum(np.square(y_pred - Y))\n",
    "        dtheta = (1/m)*np.dot(X.T,y_pred - Y)\n",
    "        theta = theta-learning_rate*dtheta\n",
    "        cost_list.append(cost)\n",
    "        if(i%(iteration/10) == 0):\n",
    "            print(\"Cost is:\",cost)\n",
    "            y_pred = np.dot(X_test, theta)\n",
    "            er = 1/X_test.shape[0]*np.sqrt(np.sum(np.square(np.abs(y_pred - Y_test))))\n",
    "            print(\"Error\", er)\n",
    "            \n",
    "            \n",
    "            \n",
    "    return theta,cost_list"
   ]
  },
  {
   "cell_type": "code",
   "execution_count": 71,
   "id": "bca203c4",
   "metadata": {},
   "outputs": [
    {
     "name": "stdout",
     "output_type": "stream",
     "text": [
      "Cost is: 13880452.724928366\n",
      "Error 224.22746870932932\n",
      "Cost is: 9709239.729762334\n",
      "Error 180.71702255016254\n",
      "Cost is: 8705140.450999243\n",
      "Error 167.52730361949827\n",
      "Cost is: 7961420.152001156\n",
      "Error 157.66707391608733\n",
      "Cost is: 7397080.331479064\n",
      "Error 150.13345016173423\n",
      "Cost is: 6963051.623092851\n",
      "Error 144.372915980505\n",
      "Cost is: 6626750.984525107\n",
      "Error 140.02324974037126\n",
      "Cost is: 6365064.767009552\n",
      "Error 136.80838089649592\n",
      "Cost is: 6160899.132886282\n",
      "Error 134.49972690462027\n",
      "Cost is: 6001304.031741339\n",
      "Error 132.9035826167386\n"
     ]
    }
   ],
   "source": [
    "iteration = 100000\n",
    "learning_rate = 0.0000009\n",
    "theta,cost_list = model(X,Y,learning_rate = learning_rate, iteration = iteration)"
   ]
  },
  {
   "cell_type": "code",
   "execution_count": 72,
   "id": "4fb4b1a9",
   "metadata": {},
   "outputs": [
    {
     "data": {
      "text/plain": [
       "<function matplotlib.pyplot.show(close=None, block=None)>"
      ]
     },
     "execution_count": 72,
     "metadata": {},
     "output_type": "execute_result"
    },
    {
     "data": {
      "image/png": "[encoded data removed]",
      "text/plain": [
       "<Figure size 432x288 with 1 Axes>"
      ]
     },
     "metadata": {
      "needs_background": "light"
     },
     "output_type": "display_data"
    }
   ],
   "source": [
    "rng = np.arange(0, iteration)\n",
    "plt.plot(rng,cost_list)\n",
    "plt.show"
   ]
  }
 ],
 "metadata": {
  "kernelspec": {
   "display_name": "Python 3 (ipykernel)",
   "language": "python",
   "name": "python3"
  },
  "language_info": {
   "codemirror_mode": {
    "name": "ipython",
    "version": 3
   },
   "file_extension": ".py",
   "mimetype": "text/x-python",
   "name": "python",
   "nbconvert_exporter": "python",
   "pygments_lexer": "ipython3",
   "version": "3.10.1"
  }
 },
 "nbformat": 4,
 "nbformat_minor": 5
}
