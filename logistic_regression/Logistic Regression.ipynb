{
 "cells": [
  {
   "cell_type": "code",
   "execution_count": 2,
   "id": "8ef34db1",
   "metadata": {},
   "outputs": [],
   "source": [
    "import numpy as np\n",
    "import pandas as pd\n",
    "import matplotlib.pyplot as plt"
   ]
  },
  {
   "cell_type": "code",
   "execution_count": 3,
   "id": "f73d7c18",
   "metadata": {},
   "outputs": [],
   "source": [
    "data=pd.read_csv(\"weather.csv\")"
   ]
  },
  {
   "cell_type": "code",
   "execution_count": 4,
   "id": "638c6e0f",
   "metadata": {},
   "outputs": [],
   "source": [
    "data=data.dropna()"
   ]
  },
  {
   "cell_type": "code",
   "execution_count": 5,
   "id": "031ce536",
   "metadata": {},
   "outputs": [],
   "source": [
    "dt=data.values\n",
    "X_train=dt[0:40633,0:17]\n",
    "Y_train=dt[0:40633,-1].reshape(1,X_train.shape[0])\n",
    "X_test=dt[40633:58090,0:17]\n",
    "Y_test=dt[40633:58090,-1].reshape(1,X_test.shape[0])"
   ]
  },
  {
   "cell_type": "code",
   "execution_count": 6,
   "id": "0bd24433",
   "metadata": {},
   "outputs": [],
   "source": [
    "X_train=X_train.T\n",
    "X_test=X_test.T"
   ]
  },
  {
   "cell_type": "code",
   "execution_count": 7,
   "id": "3043f0a6",
   "metadata": {},
   "outputs": [],
   "source": [
    "def sig(x):\n",
    "    return 1/(1+np.exp(-x))"
   ]
  },
  {
   "cell_type": "code",
   "execution_count": 8,
   "id": "5d1f5353",
   "metadata": {},
   "outputs": [],
   "source": [
    "def model(X,Y,lr,it):\n",
    "    m=X.shape[1]\n",
    "    n=X.shape[0]\n",
    "    w=np.zeros((n,1))\n",
    "    b=0\n",
    "    cost_list=[]\n",
    "    \n",
    "    for i in range(it):\n",
    "        z=np.dot(w.T,X)+b\n",
    "        a=sig(z)\n",
    "        cost=-(1/m)*np.sum(Y*np.log(a) + (1-Y)*np.log(1-a))\n",
    "        dw=(1/m)*np.dot(a-Y,X.T)\n",
    "        db=(1/m)*np.sum(a-Y)\n",
    "        w=w-lr*dw.T\n",
    "        b=b-lr*db.T\n",
    "        cost_list.append(cost)\n",
    "        if(i%(it/10)==0):\n",
    "            print(\"cost is:\",cost)\n",
    "    return w,b,cost_list"
   ]
  },
  {
   "cell_type": "code",
   "execution_count": 9,
   "id": "087b27c9",
   "metadata": {},
   "outputs": [
    {
     "name": "stdout",
     "output_type": "stream",
     "text": [
      "cost is: 0.6931471805599453\n",
      "cost is: 0.47582844352516357\n",
      "cost is: 0.44373985971895485\n",
      "cost is: 0.42652418227747185\n",
      "cost is: 0.4162463048466953\n",
      "cost is: 0.40958456232235313\n",
      "cost is: 0.40497812350436707\n",
      "cost is: 0.4016205357402154\n",
      "cost is: 0.3990627249118392\n",
      "cost is: 0.39703940369764285\n"
     ]
    }
   ],
   "source": [
    "iteration=10000\n",
    "learn=0.000005\n",
    "w,b,cost_list=model(X_train,Y_train,lr=learn,it=iteration)"
   ]
  },
  {
   "cell_type": "code",
   "execution_count": 10,
   "id": "9dc2af54",
   "metadata": {},
   "outputs": [
    {
     "data": {
      "text/plain": [
       "<function matplotlib.pyplot.show(close=None, block=None)>"
      ]
     },
     "execution_count": 10,
     "metadata": {},
     "output_type": "execute_result"
    },
    {
     "data": {
      "image/png": "[encoded data removed]",
      "text/plain": [
       "<Figure size 432x288 with 1 Axes>"
      ]
     },
     "metadata": {
      "needs_background": "light"
     },
     "output_type": "display_data"
    }
   ],
   "source": [
    "rng = np.arange(0, iteration)\n",
    "plt.plot(rng,cost_list)\n",
    "plt.show"
   ]
  },
  {
   "cell_type": "code",
   "execution_count": 11,
   "id": "ebc09dcb",
   "metadata": {},
   "outputs": [],
   "source": [
    "def accuracy(x,y,w,b):\n",
    "    z=np.dot(w.T,x)+b\n",
    "    a=sig(z)\n",
    "    a=a>0.5\n",
    "    a=np.array(a,dtype='int64')\n",
    "    acc=(1-np.sum(np.absolute(a-y))/y.shape[1])*100\n",
    "    print(\"Accuracy:\",acc,\"%\")"
   ]
  },
  {
   "cell_type": "code",
   "execution_count": 12,
   "id": "c03a2132",
   "metadata": {},
   "outputs": [
    {
     "name": "stdout",
     "output_type": "stream",
     "text": [
      "Accuracy: 86.92215157243513 %\n"
     ]
    }
   ],
   "source": [
    "accuracy(X_test,Y_test,w,b)"
   ]
  }
 ],
 "metadata": {
  "kernelspec": {
   "display_name": "Python 3 (ipykernel)",
   "language": "python",
   "name": "python3"
  },
  "language_info": {
   "codemirror_mode": {
    "name": "ipython",
    "version": 3
   },
   "file_extension": ".py",
   "mimetype": "text/x-python",
   "name": "python",
   "nbconvert_exporter": "python",
   "pygments_lexer": "ipython3",
   "version": "3.10.1"
  }
 },
 "nbformat": 4,
 "nbformat_minor": 5
}
