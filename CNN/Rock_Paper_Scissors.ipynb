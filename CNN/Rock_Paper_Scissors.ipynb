{
  "cells": [
    {
      "cell_type": "code",
      "execution_count": 1,
      "metadata": {
        "id": "hbgLkDQ-Mt4h"
      },
      "outputs": [],
      "source": [
        "import matplotlib.pyplot as plt\n",
        "import numpy as np\n",
        "\n",
        "import tensorflow as tf\n",
        "import tensorflow_datasets as tfds\n",
        "\n",
        "from tensorflow import keras"
      ]
    },
    {
      "cell_type": "code",
      "execution_count": 2,
      "metadata": {
        "id": "m1kIwsDIMt4o"
      },
      "outputs": [],
      "source": [
        "ds_train=tfds.load(name=\"rock_paper_scissors\", split=\"train\")\n",
        "ds_test=tfds.load(name=\"rock_paper_scissors\",split=\"test\")"
      ]
    },
    {
      "cell_type": "code",
      "execution_count": 3,
      "metadata": {
        "id": "6dbFpHePMt4q"
      },
      "outputs": [],
      "source": [
        "train_images=np.array([example['image'].numpy()[:,:,0] for example in ds_train])\n",
        "test_images=np.array([example['image'].numpy()[:,:,0] for example in ds_test])\n",
        "\n",
        "test_labels=np.array([example['label'].numpy() for example in ds_test])\n",
        "train_labels=np.array([example['label'].numpy() for example in ds_train])\n",
        "\n"
      ]
    },
    {
      "cell_type": "code",
      "execution_count": 4,
      "metadata": {
        "id": "dnwyQ5tgMt4r"
      },
      "outputs": [],
      "source": [
        "train_images=train_images.reshape(2520,300,300,1)\n",
        "test_images=test_images.reshape(372,300,300,1)\n",
        "\n",
        "train_images=train_images.astype('float32')\n",
        "test_images=test_images.astype('float32')\n",
        "\n",
        "train_images/=255\n",
        "test_images/=255"
      ]
    },
    {
      "cell_type": "code",
      "execution_count": 5,
      "metadata": {
        "colab": {
          "base_uri": "https://localhost:8080/"
        },
        "id": "SuU3ppxkMt4u",
        "outputId": "e3b49485-82db-48fa-cea9-a31979da80a8"
      },
      "outputs": [
        {
          "name": "stdout",
          "output_type": "stream",
          "text": [
            "Epoch 1/5\n",
            "79/79 [==============================] - 6s 40ms/step - loss: 0.6190 - accuracy: 0.7373\n",
            "Epoch 2/5\n",
            "79/79 [==============================] - 3s 34ms/step - loss: 0.0468 - accuracy: 0.9885\n",
            "Epoch 3/5\n",
            "79/79 [==============================] - 3s 34ms/step - loss: 0.0105 - accuracy: 0.9988\n",
            "Epoch 4/5\n",
            "79/79 [==============================] - 3s 34ms/step - loss: 0.0030 - accuracy: 1.0000\n",
            "Epoch 5/5\n",
            "79/79 [==============================] - 3s 34ms/step - loss: 0.0043 - accuracy: 0.9992\n"
          ]
        },
        {
          "data": {
            "text/plain": [
              "<keras.callbacks.History at 0x29f1ef1ad40>"
            ]
          },
          "execution_count": 5,
          "metadata": {},
          "output_type": "execute_result"
        }
      ],
      "source": [
        "model= keras.Sequential([\n",
        "    keras.layers.AveragePooling2D(6,3, input_shape=(300,300,1)),\n",
        "    keras.layers.Conv2D(64, 3, activation='relu', input_shape=(300,300,1)),\n",
        "    keras.layers.Conv2D(32,3,activation='relu'),\n",
        "    keras.layers.MaxPool2D(2,2),\n",
        "    keras.layers.Dropout(0.5),\n",
        "    keras.layers.Flatten(),\n",
        "    keras.layers.Dense(128,activation='relu'),\n",
        "    keras.layers.Dense(3,activation='softmax')\n",
        "])\n",
        "\n",
        "model.compile(optimizer='adam' ,\n",
        "loss=keras.losses.SparseCategoricalCrossentropy(),\n",
        "metrics=['accuracy'])\n",
        "\n",
        "model.fit(train_images, train_labels,epochs=5,batch_size=32)"
      ]
    },
    {
      "cell_type": "code",
      "execution_count": 6,
      "metadata": {
        "colab": {
          "base_uri": "https://localhost:8080/"
        },
        "id": "N8uecpLmNzTk",
        "outputId": "977b8447-6ed5-48dd-db29-5b5ad4f4b2bf"
      },
      "outputs": [
        {
          "name": "stdout",
          "output_type": "stream",
          "text": [
            "12/12 [==============================] - 0s 28ms/step - loss: 1.1638 - accuracy: 0.6828\n"
          ]
        },
        {
          "data": {
            "text/plain": [
              "[1.1638298034667969, 0.6827957034111023]"
            ]
          },
          "execution_count": 6,
          "metadata": {},
          "output_type": "execute_result"
        }
      ],
      "source": [
        "model.evaluate(test_images,test_labels)"
      ]
    }
  ],
  "metadata": {
    "accelerator": "GPU",
    "colab": {
      "name": "Rock_Paper_Scissors.ipynb",
      "provenance": []
    },
    "interpreter": {
      "hash": "b89b5cfaba6639976dc87ff2fec6d58faec662063367e2c229c520fe71072417"
    },
    "kernelspec": {
      "display_name": "Python 3.10.1 64-bit",
      "language": "python",
      "name": "python3"
    },
    "language_info": {
      "codemirror_mode": {
        "name": "ipython",
        "version": 3
      },
      "file_extension": ".py",
      "mimetype": "text/x-python",
      "name": "python",
      "nbconvert_exporter": "python",
      "pygments_lexer": "ipython3",
      "version": "3.10.1"
    },
    "orig_nbformat": 4
  },
  "nbformat": 4,
  "nbformat_minor": 0
}
